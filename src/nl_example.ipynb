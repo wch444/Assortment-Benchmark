{
 "cells": [
  {
   "cell_type": "markdown",
   "id": "f8934642",
   "metadata": {},
   "source": [
    "# Example: NL Assortment Optimization\n",
    "\n",
    "This notebook demonstrates how to use the algorithm implemented in this repository for assortment optimization under the **Nested Logit (NL)** choice model.\n",
    "\n",
    "It shows how to:\n",
    "1. Configure and run assortment optimization for an unconstrained scenario.\n",
    "2. Run an efficient optimization heuristic (RO) specifically designed for the NL model.\n",
    "3. Interpret the results provided by the algorithms."
   ]
  },
  {
   "cell_type": "markdown",
   "id": "0a1a5ce2",
   "metadata": {},
   "source": [
    "## 1. Import Required Modules\n"
   ]
  },
  {
   "cell_type": "code",
   "execution_count": null,
   "id": "52da6580",
   "metadata": {},
   "outputs": [
    {
     "name": "stdout",
     "output_type": "stream",
     "text": [
      "✅ Modules imported successfully.\n"
     ]
    }
   ],
   "source": [
    "import numpy as np  \n",
    "import sys\n",
    "import os\n",
    "\n",
    "\n",
    "notebook_path = os.getcwd() \n",
    "project_root = os.path.dirname(notebook_path)  # get the project root directory\n",
    "sys.path.append(project_root)\n",
    "\n",
    "from generator.nl_data_generator import *\n",
    "from generator.constraint import *\n",
    "from models.nl_functions import *\n",
    "from heuristic.nl_heuristic import *\n",
    "\n",
    "print(\"✅ Modules imported successfully.\")"
   ]
  },
  {
   "cell_type": "markdown",
   "id": "46b43760",
   "metadata": {},
   "source": [
    "## 2. Unconstrained Assortment Optimization\n",
    "\n",
    "In this section, we solve the assortment optimization problem without any additional constraints. "
   ]
  },
  {
   "cell_type": "markdown",
   "id": "552feabd",
   "metadata": {},
   "source": [
    "### 2.1: Define Experiment Configuration and Generate Data\n",
    "- There are many data generation methods in generator.nl_data_generator, you can choose and give the corresponding parameters\n",
    "- The random seed is fixed to ensure that the results are reproducible.\n",
    "- We found that performance was poor for certain random seeds, so we chose these seeds to demonstrate the performance of the heuristic algorithm."
   ]
  },
  {
   "cell_type": "code",
   "execution_count": null,
   "id": "bc5e0ff3",
   "metadata": {},
   "outputs": [],
   "source": [
    "# --- Configuration ---\n",
    "m = 5 # the number of nests\n",
    "n = 25  # the number of products for each nest\n",
    "gamma_range = [2,3] #the range for the dissimilarity parameter\n",
    "full_capture = False # whether the no-purchase option is fully captured\n",
    "\n",
    "worst_seeds = [52, 95, 84, 45, 87] # define the worst-performing seeds\n",
    "\n",
    "\n",
    "\n",
    "# --- Data Generation --\n",
    "# Generate the data for the NL model\n",
    "# The seed is fixed to ensure the generated data is always the same.\n",
    "data = nl_data_vi0_uniform01(m, n, gamma_range, full_capture, worst_seeds[0])\n",
    "    \n",
    "\n",
    "# The revenue function is what we want to maximize.\n",
    "# There is to create two versions: one for the GPU (if available) and one for the CPU.\n",
    "revenue_fn_cpu = get_revenue_function_nl(data)\n"
   ]
  },
  {
   "cell_type": "markdown",
   "id": "bf88c86b",
   "metadata": {},
   "source": [
    "We can inspect the generated data to understand the components of the NL model:\n",
    "- v: A matrix representing the utility of each product in each nest, shape (m,n).\n",
    "- price: The price of each product, shape (m,n).\n",
    "- gamma: The dissimilarity parameter for each nest.\n",
    "- v0: The utility of the no-purchase option.\n",
    "- vi0: The utility of the no-purchase option within nest."
   ]
  },
  {
   "cell_type": "code",
   "execution_count": 7,
   "id": "06daf4a1",
   "metadata": {},
   "outputs": [
    {
     "name": "stdout",
     "output_type": "stream",
     "text": [
      "the utility : [[ 0.19  0.36  0.45  0.89  1.17  1.8   2.18  2.25  3.56  4.29  5.18  5.35\n",
      "   5.57  5.96  6.82  7.06  7.32  7.67  8.46  8.92  9.23  9.85 10.66 11.22\n",
      "  11.35]\n",
      " [ 0.03  0.19  0.37  2.92  3.28  3.33  3.39  4.7   4.79  4.79  5.04  5.42\n",
      "   5.64  5.92  6.3   6.54  6.56  6.69  6.77  7.54  7.76  7.96  8.42  8.94\n",
      "  10.3 ]\n",
      " [ 0.68  0.88  1.38  1.5   1.78  2.56  3.38  3.41  3.56  3.64  4.4   4.57\n",
      "   5.15  5.18  5.42  5.64  6.26  6.29  6.59  7.94  9.24  9.49  9.64  9.87\n",
      "   9.98]\n",
      " [ 0.54  0.72  0.85  0.86  2.94  3.18  3.34  4.4   4.67  4.71  5.88  6.\n",
      "   6.1   6.7   7.07  7.45  8.25  8.25  8.29  8.77  8.96  9.67  9.9  10.05\n",
      "  10.13]\n",
      " [ 0.34  0.38  1.94  1.94  2.04  2.1   2.66  3.05  3.45  3.51  3.96  4.38\n",
      "   6.1   6.54  6.6   6.8   6.86  7.25  7.51  8.82  9.    9.84 10.19 10.74\n",
      "  10.95]]\n",
      "the price : [[ 8.16 10.88  6.99  9.3   5.77  7.38  5.74  5.43  3.18  3.93  3.08  2.92\n",
      "   1.69  0.51  1.33  1.72  1.85  0.85  0.4   0.06  0.63  0.13  0.    0.05\n",
      "   0.05]\n",
      " [11.77  8.01  7.1   5.2   3.89  3.98  3.41  2.87  2.71  2.09  2.34  2.95\n",
      "   2.81  0.98  1.74  1.37  1.74  1.69  0.59  0.17  0.93  1.2   0.75  0.34\n",
      "   0.27]\n",
      " [10.09  6.66  7.58  5.85  5.28  6.04  3.72  3.46  5.11  3.32  3.44  3.08\n",
      "   1.29  2.91  1.9   0.55  1.99  0.73  0.41  0.28  0.16  0.    0.32  0.03\n",
      "   0.18]\n",
      " [ 6.81  7.49  8.85 10.31  4.97  3.56  3.97  2.08  1.56  1.52  0.69  0.41\n",
      "   0.89  0.56  0.48  0.89  0.01  0.34  0.47  0.12  0.03  0.27  0.33  0.2\n",
      "   0.24]\n",
      " [ 9.24  8.65  6.55  5.71  6.14  5.34  5.21  3.46  6.07  4.09  4.69  5.\n",
      "   0.74  0.44  0.5   1.43  1.29  0.9   0.8   0.36  0.15  0.48  0.11  0.02\n",
      "   0.01]]\n",
      "the no-purchase option utility : 10\n",
      "within-nest no-purchase utility : [0.62 0.57 0.52 0.01 0.55]\n",
      "the dissimilarity parameter : [2.62 2.57 2.52 2.01 2.55]\n"
     ]
    }
   ],
   "source": [
    "np.set_printoptions(suppress=True)\n",
    "print(\"the utility :\",np.round(data.v,2))\n",
    "print(\"the price :\",np.round(data.price,2))\n",
    "print(\"the no-purchase option utility :\",data.v0)\n",
    "print(\"within-nest no-purchase utility :\",np.round(data.vi0,2))\n",
    "print(\"the dissimilarity parameter :\",np.round(data.gamma,2))"
   ]
  },
  {
   "cell_type": "markdown",
   "id": "27ae10b5",
   "metadata": {},
   "source": [
    "### 2.2: Perform Optimization\n",
    "We wWe will now use a specialized revenue-ordered heuristic to find the optimal assortment.\n",
    "\n",
    "- Revenue-Ordered Heuristic: A algorithm based on linear programming, where each nest $i$ contains the $k_i$ highest-revenue products<sup>[1]</sup>. It is specifically designed for the unconstrained problem under the NL model. It does not support additional constraints.\n",
    "\n"
   ]
  },
  {
   "cell_type": "code",
   "execution_count": 8,
   "id": "68fc787a",
   "metadata": {},
   "outputs": [
    {
     "name": "stdout",
     "output_type": "stream",
     "text": [
      "The revenue obtained by RO: 6.3131100815370305\n",
      "The optimal assortment obtained by RO: [[1. 1. 1. 1. 1. 1. 0. 0. 0. 0. 0. 0. 0. 0. 0. 0. 0. 0. 0. 0. 0. 0. 0. 0.\n",
      "  0.]\n",
      " [0. 0. 0. 0. 0. 0. 0. 0. 0. 0. 0. 0. 0. 0. 0. 0. 0. 0. 0. 0. 0. 0. 0. 0.\n",
      "  0.]\n",
      " [1. 1. 1. 0. 0. 0. 0. 0. 0. 0. 0. 0. 0. 0. 0. 0. 0. 0. 0. 0. 0. 0. 0. 0.\n",
      "  0.]\n",
      " [1. 1. 1. 1. 0. 0. 0. 0. 0. 0. 0. 0. 0. 0. 0. 0. 0. 0. 0. 0. 0. 0. 0. 0.\n",
      "  0.]\n",
      " [0. 0. 0. 0. 0. 0. 0. 0. 0. 0. 0. 0. 0. 0. 0. 0. 0. 0. 0. 0. 0. 0. 0. 0.\n",
      "  0.]]\n"
     ]
    }
   ],
   "source": [
    "# This function implements the revenue-ordered heuristic for the NL model.\n",
    "# It returns the optimal assortment as a binary matrix.\n",
    "assortment = revenue_order_nl(m,n,data.v,data.price,data.v0,data.vi0,data.gamma)\n",
    "# Calculate the revenue of the assortment found by the heuristic.\n",
    "rev_order = revenue_fn_cpu(assortment)[0]\n",
    "print(f\"The revenue obtained by RO: {rev_order}\")\n",
    "print(f\"The optimal assortment obtained by RO: {assortment.reshape(m,n)}\")"
   ]
  },
  {
   "cell_type": "markdown",
   "id": "17237deb",
   "metadata": {},
   "source": [
    "# References\n",
    "\n",
    "[1] Davis J M, Gallego G, Topaloglu H. Assortment optimization under variants of the nested logit model[J]. Operations Research, 2014, 62(2): 250-273."
   ]
  },
  {
   "cell_type": "markdown",
   "id": "4b9a8169",
   "metadata": {},
   "source": []
  }
 ],
 "metadata": {
  "kernelspec": {
   "display_name": "dl",
   "language": "python",
   "name": "python3"
  },
  "language_info": {
   "codemirror_mode": {
    "name": "ipython",
    "version": 3
   },
   "file_extension": ".py",
   "mimetype": "text/x-python",
   "name": "python",
   "nbconvert_exporter": "python",
   "pygments_lexer": "ipython3",
   "version": "3.11.13"
  }
 },
 "nbformat": 4,
 "nbformat_minor": 5
}

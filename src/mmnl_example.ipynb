{
 "cells": [
  {
   "cell_type": "markdown",
   "id": "f8934642",
   "metadata": {},
   "source": [
    "# Example: MMNL Assortment Optimization\n",
    "\n",
    "This notebook demonstrates how to use the algorithm implemented in this repository for assortment optimization under the **Mixed Multinomial Logit (MMNL)** choice model.\n",
    "\n",
    "It shows how to:\n",
    "1. Configure and run assortment optimization for an unconstrained scenario.\n",
    "2. Run different optimization procedures, such as a simple heuristic (Revenue-Ordered) and an exact method (Conic Optimization).\n",
    "3. Incorporate constraints, specifically a cardinality constraint, into the optimization problem.\n",
    "4. Interpret the results provided by the algorithms."
   ]
  },
  {
   "cell_type": "markdown",
   "id": "0a1a5ce2",
   "metadata": {},
   "source": [
    "## 1. Import Required Modules\n"
   ]
  },
  {
   "cell_type": "code",
   "execution_count": null,
   "id": "52da6580",
   "metadata": {},
   "outputs": [
    {
     "name": "stdout",
     "output_type": "stream",
     "text": [
      "✅ Modules imported successfully.\n"
     ]
    }
   ],
   "source": [
    "import numpy as np  \n",
    "import sys\n",
    "import os\n",
    "\n",
    "\n",
    "notebook_path = os.getcwd() \n",
    "project_root = os.path.dirname(notebook_path)  # get the project root directory\n",
    "sys.path.append(project_root)\n",
    "\n",
    "from generator.mmnl_data_generator import *\n",
    "from generator.constraint import *\n",
    "from models.mmnl_functions import *\n",
    "from heuristic.mmnl_heuristic import *\n",
    "from heuristic.general_heuristic import *\n",
    "from heuristic.utils import *\n",
    "\n",
    "print(\"✅ Modules imported successfully.\")"
   ]
  },
  {
   "cell_type": "markdown",
   "id": "46b43760",
   "metadata": {},
   "source": [
    "## 2. Unconstrained Assortment Optimization\n",
    "\n",
    "In this section, we solve the assortment optimization problem without any additional constraints. "
   ]
  },
  {
   "cell_type": "markdown",
   "id": "552feabd",
   "metadata": {},
   "source": [
    "### 2.1: Define Experiment Configuration and Generate Data\n",
    "- There are many data generation methods in generator.mmnl_data_generator, you can choose and give the corresponding parameters\n",
    "- The random seed is fixed to ensure that the results are reproducible. \n",
    "- We found that performance was poor for certain random seeds, so we chose these seeds to demonstrate the performance of the heuristic algorithm."
   ]
  },
  {
   "cell_type": "code",
   "execution_count": null,
   "id": "bc5e0ff3",
   "metadata": {},
   "outputs": [],
   "source": [
    "# --- Configuration ---\n",
    "choice_model = 'mmnl'\n",
    "num_cus_type = 5 # number of customer types\n",
    "num_prod = 50  # number of products\n",
    "rev_type = 'RS2' # revenue type\n",
    "\n",
    "worst_seeds = [3, 55, 73, 79, 88] # define the worst-performing seeds\n",
    "device = torch.device(\"cuda:0\" if torch.cuda.is_available() else \"cpu\")\n",
    "\n",
    "\n",
    "# --- Data Generation --\n",
    "# Generate the data needed for the MMNL model\n",
    "# The seed is fixed to ensure the generated data is always the same.\n",
    "data = mmnl_data_v0_lognorm(num_prod, num_cus_type, rev_type, worst_seeds[0])\n",
    "\n",
    "# The revenue function is what we want to maximize.\n",
    "# There is to create two versions: one for the GPU (if available) and one for the CPU.\n",
    "revenue_fn_cpu = get_revenue_function_mmnl(device, data)\n"
   ]
  },
  {
   "cell_type": "markdown",
   "id": "bf88c86b",
   "metadata": {},
   "source": [
    "We can inspect the generated data to understand the components of the MMNL model:\n",
    "- u: A matrix representing the utility of each product for each customer type.\n",
    "- price: The price of each product.\n",
    "- v0: The utility of the \"no-purchase\" option for each customer type.\n",
    "- omega: The probability of each customer type."
   ]
  },
  {
   "cell_type": "code",
   "execution_count": 5,
   "id": "06daf4a1",
   "metadata": {},
   "outputs": [
    {
     "name": "stdout",
     "output_type": "stream",
     "text": [
      "the utility : [[  456.12   456.12   456.12   456.12   456.12   456.12   456.12   456.12\n",
      "    456.12   456.12   456.12   456.12   456.12   456.12   456.12   456.12\n",
      "    456.12   456.12   456.12   456.12   456.12   456.12   456.12   456.12\n",
      "    456.12     0.       0.       0.       0.       0.       0.       0.\n",
      "      0.       0.       0.       0.       0.       0.       0.       0.\n",
      "      0.       0.       0.       0.       0.       0.       0.       0.\n",
      "      0.       0.  ]\n",
      " [    3.51     3.51     3.51     3.51     3.51     3.51     3.51     3.51\n",
      "      3.51     3.51     3.51     3.51     3.51     3.51     3.51     3.51\n",
      "      3.51     3.51     3.51     3.51     3.51     3.51     3.51     3.51\n",
      "      3.51     0.18     0.18     0.18     0.18     0.18     0.18     0.18\n",
      "      0.18     0.18     0.18     0.18     0.18     0.18     0.18     0.18\n",
      "      0.18     0.18     0.18     0.18     0.18     0.18     0.18     0.18\n",
      "      0.18     0.18]\n",
      " [    0.26     0.26     0.26     0.26     0.26     0.26     0.26     0.26\n",
      "      0.26     0.26     0.26     0.26     0.26     0.26     0.26     0.26\n",
      "      0.26     0.26     0.26     0.26     0.26     0.26     0.26     0.26\n",
      "      0.26     0.52     0.52     0.52     0.52     0.52     0.52     0.52\n",
      "      0.52     0.52     0.52     0.52     0.52     0.52     0.52     0.52\n",
      "      0.52     0.52     0.52     0.52     0.52     0.52     0.52     0.52\n",
      "      0.52     0.52]\n",
      " [    0.       0.       0.       0.       0.       0.       0.       0.\n",
      "      0.       0.       0.       0.       0.       0.       0.       0.\n",
      "      0.       0.       0.       0.       0.       0.       0.       0.\n",
      "      0.       0.5      0.5      0.5      0.5      0.5      0.5      0.5\n",
      "      0.5      0.5      0.5      0.5      0.5      0.5      0.5      0.5\n",
      "      0.5      0.5      0.5      0.5      0.5      0.5      0.5      0.5\n",
      "      0.5      0.5 ]\n",
      " [    0.07     0.07     0.07     0.07     0.07     0.07     0.07     0.07\n",
      "      0.07     0.07     0.07     0.07     0.07     0.07     0.07     0.07\n",
      "      0.07     0.07     0.07     0.07     0.07     0.07     0.07     0.07\n",
      "      0.07 21354.09 21354.09 21354.09 21354.09 21354.09 21354.09 21354.09\n",
      "  21354.09 21354.09 21354.09 21354.09 21354.09 21354.09 21354.09 21354.09\n",
      "  21354.09 21354.09 21354.09 21354.09 21354.09 21354.09 21354.09 21354.09\n",
      "  21354.09 21354.09]]\n",
      "the price : [[1.   0.9  0.83 0.77 0.73 0.69 0.66 0.63 0.6  0.58 0.56 0.54 0.52 0.5\n",
      "  0.49 0.47 0.46 0.44 0.43 0.42 0.41 0.4  0.39 0.38 0.37 0.36 0.35 0.34\n",
      "  0.33 0.32 0.32 0.31 0.3  0.29 0.29 0.28 0.27 0.27 0.26 0.25 0.25 0.24\n",
      "  0.24 0.23 0.23 0.22 0.21 0.21 0.2  0.2 ]]\n",
      "the no-purchase option utility : [2.24 3.46 2.41 4.39 2.46]\n",
      "the choice probability : [0.15 0.19 0.16 0.22 0.28]\n"
     ]
    }
   ],
   "source": [
    "np.set_printoptions(suppress=True)\n",
    "print(\"the utility :\", np.round(data.u, 2))\n",
    "print(\"the price :\", np.round(data.price, 2))\n",
    "print(\"the no-purchase option utility :\", np.round(data.v0, 2))\n",
    "print(\"the choice probability :\", np.round(data.omega, 2))"
   ]
  },
  {
   "cell_type": "markdown",
   "id": "27ae10b5",
   "metadata": {},
   "source": [
    "### 2.2: Perform Optimization\n",
    "We will now use two different methods to find the optimal assortment:\n",
    "\n",
    "1. Revenue-Ordered Heuristic: It selects all products with revenue greater than a threshold. And it allows to provide data that is not sorted by price.\n",
    "\n",
    "2. Conic Optimization: It is an exact method that guarantees finding the globally optimal assortment using the conic integer formulation <sup>[1]</sup>  . It can use a warm-start for efficiency and support additional linear constraints.\n",
    "\n"
   ]
  },
  {
   "cell_type": "markdown",
   "id": "fc7bca49",
   "metadata": {},
   "source": [
    "#### Method 1: Revenue-Ordered(RO) Heuristic"
   ]
  },
  {
   "cell_type": "code",
   "execution_count": 6,
   "id": "68fc787a",
   "metadata": {},
   "outputs": [
    {
     "name": "stdout",
     "output_type": "stream",
     "text": [
      "The revenue obtained by RO: 0.37606145287201576\n",
      "The optimal assortment obtained by RO: [1. 1. 1. 1. 1. 1. 1. 1. 1. 1. 1. 1. 1. 1. 1. 1. 1. 1. 1. 1. 1. 1. 1. 1.\n",
      " 1. 1. 1. 1. 1. 1. 1. 1. 1. 0. 0. 0. 0. 0. 0. 0. 0. 0. 0. 0. 0. 0. 0. 0.\n",
      " 0. 0.]\n"
     ]
    }
   ],
   "source": [
    "# The function returns the best revenue, the number of products, the corresponding assortment.\n",
    "rev_order, k, best_ass = revenue_order(num_prod, choice_model, data)\n",
    "rev_order = revenue_fn_cpu(best_ass)[0]\n",
    "print(f\"The revenue obtained by RO: {rev_order}\")\n",
    "print(f\"The optimal assortment obtained by RO: {best_ass}\")"
   ]
  },
  {
   "cell_type": "markdown",
   "id": "49c0cc26",
   "metadata": {},
   "source": [
    "#### Method 1: Conic Optimization"
   ]
  },
  {
   "cell_type": "code",
   "execution_count": 7,
   "id": "cae9ce33",
   "metadata": {},
   "outputs": [
    {
     "name": "stdout",
     "output_type": "stream",
     "text": [
      "Set parameter LicenseID to value 2686707\n"
     ]
    },
    {
     "name": "stdout",
     "output_type": "stream",
     "text": [
      "The revenue obtained by conic: 0.43266108767833406\n",
      "The optimal assortment obtained by conic: [1 1 1 1 0 0 0 0 0 0 0 0 0 0 0 0 0 0 0 0 0 0 0 0 0 1 1 1 1 1 1 1 1 0 0 0 0\n",
      " 0 0 0 0 0 0 0 0 0 0 0 0 0]\n"
     ]
    }
   ],
   "source": [
    "# This function solves the assortment problem using a conic formulation.\n",
    "# The 'cardinality=num_prod' argument here means there is no actual cardinality constraint (can choose up to all products).\n",
    "rev_conic, ass, info = Conic_mmnl_warm_start(coef=data.omega, uti=data.u, v_i0=data.v0, p=data.price,cardinality=num_prod)\n",
    "        \n",
    "if ass is None:\n",
    "    rev_conic\n",
    "else:\n",
    "    rev_conic = revenue_fn_cpu(ass)[0]\n",
    "\n",
    "print(f\"The revenue obtained by conic: {rev_conic}\")\n",
    "print(f\"The optimal assortment obtained by conic: {ass}\")"
   ]
  },
  {
   "cell_type": "markdown",
   "id": "066939be",
   "metadata": {},
   "source": [
    "- Allows the use of warm-start to improve computational efficiency. Function x0_vto_x0_vector can be used to convert vectors of different forms into standard assortment representations.\n"
   ]
  },
  {
   "cell_type": "code",
   "execution_count": 8,
   "id": "e4bd9061",
   "metadata": {},
   "outputs": [
    {
     "name": "stdout",
     "output_type": "stream",
     "text": [
      "The revenue obtained by conic: 0.43266108767833406\n",
      "The optimal assortment obtained by conic: [1 1 1 1 0 0 0 0 0 0 0 0 0 0 0 0 0 0 0 0 0 0 0 0 0 1 1 1 1 1 1 1 1 0 0 0 0\n",
      " 0 0 0 0 0 0 0 0 0 0 0 0 0]\n"
     ]
    }
   ],
   "source": [
    "x0_vec = to_x0_vector(best_ass, n=num_prod, cardinality=num_prod)\n",
    "\n",
    "rev_conic, ass, info = Conic_mmnl_warm_start(coef=data.omega, uti=data.u, v_i0=data.v0, p=data.price,cardinality=num_prod)\n",
    "        \n",
    "if ass is None:\n",
    "    rev_conic\n",
    "else:\n",
    "    rev_conic = revenue_fn_cpu(ass)[0]\n",
    "    \n",
    "print(f\"The revenue obtained by conic: {rev_conic}\")\n",
    "print(f\"The optimal assortment obtained by conic: {ass}\")"
   ]
  },
  {
   "cell_type": "markdown",
   "id": "c5532546",
   "metadata": {},
   "source": [
    "## 3. Constrained Assortment Optimization\n",
    "\n",
    " We introduce a cardinality constraint, which limits the maximum number of products that can be included in the assortment."
   ]
  },
  {
   "cell_type": "markdown",
   "id": "011d3dfe",
   "metadata": {},
   "source": [
    "### 3.1: Define Constraint and Generate Data"
   ]
  },
  {
   "cell_type": "code",
   "execution_count": null,
   "id": "e0d93c1d",
   "metadata": {},
   "outputs": [],
   "source": [
    "# --- Configuration for Cardinality Constrained Problem ---\n",
    "choice_model = 'mmnl'\n",
    "num_cus_type = 5\n",
    "num_prod = 50\n",
    "rev_type = 'RS2'\n",
    "\n",
    "cap_rate = 0.1\n",
    "cap = int(np.ceil(num_prod * cap_rate)) # Max number of products in assortment\n",
    "\n",
    "worst_seeds = [55, 69, 73, 80, 88] # define the worst-performing seeds\n",
    "\n",
    "\n",
    "# --- Define the cardinality constraint Ax <= B ---\n",
    "A, B = cardinality(num_prod, cap)\n",
    "data = mmnl_data_v0_lognorm(num_prod, num_cus_type, rev_type, worst_seeds[0])\n",
    "revenue_fn, revenue_fn_cpu = get_revenue_function_mmnl(data)"
   ]
  },
  {
   "cell_type": "code",
   "execution_count": 13,
   "id": "812580d3",
   "metadata": {},
   "outputs": [
    {
     "name": "stdout",
     "output_type": "stream",
     "text": [
      "the utility : [[ 12.51  12.51  12.51  12.51  12.51  12.51  12.51  12.51  12.51  12.51\n",
      "   12.51  12.51  12.51  12.51  12.51  12.51  12.51  12.51  12.51  12.51\n",
      "   12.51  12.51  12.51  12.51  12.51   0.     0.     0.     0.     0.\n",
      "    0.     0.     0.     0.     0.     0.     0.     0.     0.     0.\n",
      "    0.     0.     0.     0.     0.     0.     0.     0.     0.     0.  ]\n",
      " [  0.4    0.4    0.4    0.4    0.4    0.4    0.4    0.4    0.4    0.4\n",
      "    0.4    0.4    0.4    0.4    0.4    0.4    0.4    0.4    0.4    0.4\n",
      "    0.4    0.4    0.4    0.4    0.4   77.45  77.45  77.45  77.45  77.45\n",
      "   77.45  77.45  77.45  77.45  77.45  77.45  77.45  77.45  77.45  77.45\n",
      "   77.45  77.45  77.45  77.45  77.45  77.45  77.45  77.45  77.45  77.45]\n",
      " [  0.02   0.02   0.02   0.02   0.02   0.02   0.02   0.02   0.02   0.02\n",
      "    0.02   0.02   0.02   0.02   0.02   0.02   0.02   0.02   0.02   0.02\n",
      "    0.02   0.02   0.02   0.02   0.02   1.17   1.17   1.17   1.17   1.17\n",
      "    1.17   1.17   1.17   1.17   1.17   1.17   1.17   1.17   1.17   1.17\n",
      "    1.17   1.17   1.17   1.17   1.17   1.17   1.17   1.17   1.17   1.17]\n",
      " [ 89.98  89.98  89.98  89.98  89.98  89.98  89.98  89.98  89.98  89.98\n",
      "   89.98  89.98  89.98  89.98  89.98  89.98  89.98  89.98  89.98  89.98\n",
      "   89.98  89.98  89.98  89.98  89.98   0.03   0.03   0.03   0.03   0.03\n",
      "    0.03   0.03   0.03   0.03   0.03   0.03   0.03   0.03   0.03   0.03\n",
      "    0.03   0.03   0.03   0.03   0.03   0.03   0.03   0.03   0.03   0.03]\n",
      " [ 11.38  11.38  11.38  11.38  11.38  11.38  11.38  11.38  11.38  11.38\n",
      "   11.38  11.38  11.38  11.38  11.38  11.38  11.38  11.38  11.38  11.38\n",
      "   11.38  11.38  11.38  11.38  11.38 297.88 297.88 297.88 297.88 297.88\n",
      "  297.88 297.88 297.88 297.88 297.88 297.88 297.88 297.88 297.88 297.88\n",
      "  297.88 297.88 297.88 297.88 297.88 297.88 297.88 297.88 297.88 297.88]]\n",
      "the price : [[1.   0.9  0.83 0.77 0.73 0.69 0.66 0.63 0.6  0.58 0.56 0.54 0.52 0.5\n",
      "  0.49 0.47 0.46 0.44 0.43 0.42 0.41 0.4  0.39 0.38 0.37 0.36 0.35 0.34\n",
      "  0.33 0.32 0.32 0.31 0.3  0.29 0.29 0.28 0.27 0.27 0.26 0.25 0.25 0.24\n",
      "  0.24 0.23 0.23 0.22 0.21 0.21 0.2  0.2 ]]\n",
      "the no-purchase option utility : [1.32 4.73 2.78 1.42 4.79]\n",
      "the choice probability : [0.24 0.43 0.03 0.24 0.06]\n",
      "Constraint matrix A: [[1. 1. 1. 1. 1. 1. 1. 1. 1. 1. 1. 1. 1. 1. 1. 1. 1. 1. 1. 1. 1. 1. 1. 1.\n",
      "  1. 1. 1. 1. 1. 1. 1. 1. 1. 1. 1. 1. 1. 1. 1. 1. 1. 1. 1. 1. 1. 1. 1. 1.\n",
      "  1. 1.]]\n",
      "Constraint vector B: [5.]\n"
     ]
    }
   ],
   "source": [
    "print(\"the utility :\", np.round(data.u, 2))\n",
    "print(\"the price :\", np.round(data.price, 2))\n",
    "print(\"the no-purchase option utility :\", np.round(data.v0, 2))\n",
    "print(\"the choice probability :\", np.round(data.omega, 2))\n",
    "print(\"Constraint matrix A:\", A)\n",
    "print(\"Constraint vector B:\", B)"
   ]
  },
  {
   "cell_type": "markdown",
   "id": "89c2b2a3",
   "metadata": {},
   "source": [
    "### 3.2: Perform Constrained Optimization\n",
    "With the constraint Ax <= B defined, we now solve the problem again."
   ]
  },
  {
   "cell_type": "code",
   "execution_count": 11,
   "id": "13e64d82",
   "metadata": {},
   "outputs": [
    {
     "name": "stdout",
     "output_type": "stream",
     "text": [
      "The revenue obtained by RO: 0.5585538114503161\n",
      "The optimal assortment obtained by RO: [1. 1. 1. 1. 0. 0. 0. 0. 0. 0. 0. 0. 0. 0. 0. 0. 0. 0. 0. 0. 0. 0. 0. 0.\n",
      " 0. 0. 0. 0. 0. 0. 0. 0. 0. 0. 0. 0. 0. 0. 0. 0. 0. 0. 0. 0. 0. 0. 0. 0.\n",
      " 0. 0.]\n",
      "Whether the constraints are met: True\n"
     ]
    }
   ],
   "source": [
    "# We add the constraint matrices A and B to the function call.\n",
    "rev_order, k, best_ass = revenue_order(num_prod, choice_model, data,A=A,B=B)\n",
    "rev_order = revenue_fn_cpu(best_ass)[0]\n",
    "print(f\"The revenue obtained by RO: {rev_order}\")\n",
    "print(f\"The optimal assortment obtained by RO: {best_ass}\")\n",
    "print(f\"Whether the constraints are met: {sum(best_ass) <= cap}\")"
   ]
  },
  {
   "cell_type": "code",
   "execution_count": 12,
   "id": "bab318b1",
   "metadata": {},
   "outputs": [
    {
     "name": "stdout",
     "output_type": "stream",
     "text": [
      "The revenue obtained by conic: 0.6295539852367963\n",
      "The optimal assortment obtained by conic: [1 0 0 0 0 0 0 0 0 0 0 0 0 0 0 0 0 0 0 0 0 0 0 0 0 1 1 0 0 0 0 0 0 0 0 0 0\n",
      " 0 0 0 0 0 0 0 0 0 0 0 0 0]\n",
      "Whether the constraints are met: True\n"
     ]
    }
   ],
   "source": [
    "# We add the constraint matrices A and B to the function call.\n",
    "rev_conic, ass, info = Conic_mmnl_warm_start(coef=data.omega, uti=data.u, v_i0=data.v0, p=data.price,cardinality=cap,A=A,b=B)\n",
    "        \n",
    "if ass is None:\n",
    "    rev_conic\n",
    "else:\n",
    "    rev_conic = revenue_fn_cpu(ass)[0]\n",
    "\n",
    "print(f\"The revenue obtained by conic: {rev_conic}\")\n",
    "print(f\"The optimal assortment obtained by conic: {ass}\")\n",
    "print(f\"Whether the constraints are met: {sum(ass) <= cap}\")"
   ]
  },
  {
   "cell_type": "markdown",
   "id": "17237deb",
   "metadata": {},
   "source": [
    "# References\n",
    "\n",
    "[1] Şen A, Atamtürk A, Kaminsky P. A conic integer optimization approach to the constrained assortment problem under the mixed multinomial logit model[J]. Operations Research, 2018, 66(4): 994-1003."
   ]
  },
  {
   "cell_type": "markdown",
   "id": "9198ccaa",
   "metadata": {},
   "source": []
  }
 ],
 "metadata": {
  "kernelspec": {
   "display_name": "dl",
   "language": "python",
   "name": "python3"
  },
  "language_info": {
   "codemirror_mode": {
    "name": "ipython",
    "version": 3
   },
   "file_extension": ".py",
   "mimetype": "text/x-python",
   "name": "python",
   "nbconvert_exporter": "python",
   "pygments_lexer": "ipython3",
   "version": "3.11.13"
  }
 },
 "nbformat": 4,
 "nbformat_minor": 5
}
